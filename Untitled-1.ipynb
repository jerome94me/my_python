{
 "cells": [
  {
   "cell_type": "code",
   "execution_count": null,
   "metadata": {},
   "outputs": [
    {
     "data": {
      "text/plain": [
       "請輸入正確的電話號碼!\n",
       "請輸入正確的電話號碼!\n",
       "Traceback (most recent call last):\n",
       "  File \"c:\\Users\\Lin\\.vscode\\extensions\\ms-python.python-2025.0.0-win32-x64\\python_files\\python_server.py\", line 133, in exec_user_input\n",
       "    retval = callable_(user_input, user_globals)\n",
       "  File \"<string>\", line 6, in <module>\n",
       "TypeError: object of type 'NoneType' has no len()\n",
       "\n"
      ]
     },
     "metadata": {},
     "output_type": "display_data"
    }
   ],
   "source": [
    "while True:\n",
    "    get_phone_num=input(\"請輸入你的電話號碼:\")\n",
    "    if get_phone_num == \"\":\n",
    "        print(\"請勿輸入空白!\")\n",
    "        continue\n",
    "    elif len (get_phone_num) < 10:\n",
    "        print(\"請輸入正確的電話號碼!\")\n",
    "        continue\n",
    "    elif len (get_phone_num) >10:\n",
    "        print(\"請輸入正確的電話號碼!\")\n",
    "        continue\n",
    "    elif len(get_phone_num) == 10:\n",
    "        print(\"你的電話號碼是:\",get_phone_num)\n",
    "        user_name=input(\"請輸入你的使用者名稱(按下e查看要求):\")\n",
    "        if user_name == \"e\":\n",
    "            print(\"\")\n",
    "        break\n",
    "    else:\n",
    "        print(\"請輸入正確的電話號碼!\")\n",
    "        continue\n",
    "\n"
   ]
  },
  {
   "cell_type": "code",
   "execution_count": null,
   "metadata": {},
   "outputs": [],
   "source": [
    "def is_valid_phone_number(phone_number):\n",
    "    return len(phone_number) == 10 and phone_number.isdigit()\n",
    "\n",
    "def is_valid_username(username):\n",
    "    if len(username) > 12:\n",
    "        print(\"你的使用者名稱已超過12個字元\")\n",
    "        return False\n",
    "    if \" \" in username:\n",
    "        print(\"你的使用者名稱包含空格\")\n",
    "        return False\n",
    "    if any(char in username for char in \"!?@#$%^&*()\"):\n",
    "        print(\"你的使用者名稱包含不允許的符號\")\n",
    "        return False\n",
    "    if len(username) < 4:\n",
    "        print(\"你的使用者名稱小於四個字元\")\n",
    "        return False\n",
    "    if any('\\u4e00' <= char <= '\\u9fff' for char in username):\n",
    "        print(\"你的使用者名稱包含中文字\")\n",
    "        return False\n",
    "    if any(char.isdigit() for char in username):\n",
    "        print(\"你的使用者名稱包含數字\")\n",
    "        return False\n",
    "    return True\n",
    "\n",
    "def is_valid_password(password):\n",
    "    if \" \" in password:\n",
    "        print(\"你的密碼包含空格,請重新輸入\")\n",
    "        return False\n",
    "    if len(password) <= 4:\n",
    "        print(\"你的密碼小於四個字元,請重新輸入\")\n",
    "        return False\n",
    "    if any('\\u4e00' <= char <= '\\u9fff' for char in password):\n",
    "        print(\"你的密碼包含中文字,請重新輸入\")\n",
    "        return False\n",
    "    if any(char.isdigit() for char in password):\n",
    "        print(\"你的密碼包含數字,請重新輸入\")\n",
    "        return False\n",
    "    return True\n",
    "\n",
    "while True:\n",
    "    get_phone_num = input(\"請輸入你的電話號碼 (10碼): \")\n",
    "    if not is_valid_phone_number(get_phone_num):\n",
    "        print(\"請輸入正確的電話號碼!\")\n",
    "        continue\n",
    "    else:\n",
    "        print(\"電話號碼驗證成功\")\n",
    "        break\n",
    "\n",
    "while True:\n",
    "    user_name = input(\"請輸入你的使用者名稱:\")\n",
    "    if not is_valid_username(user_name):\n",
    "        continue\n",
    "    else:\n",
    "        print(\"你的使用者名稱是:\", user_name)\n",
    "        break\n",
    "\n",
    "while True:\n",
    "    password = input(\"請輸入你的密碼(按下e查看要求):\")\n",
    "    if password == \"e\":\n",
    "        print(\"--------------------------------------------------------------------------------\")\n",
    "        print(\"不能包含空格\")\n",
    "        print(\"不能小於四個字元\")\n",
    "        print(\"不能有中文字\")\n",
    "        print(\"不能有數字\")\n",
    "        continue\n",
    "    if not is_valid_password(password):\n",
    "        continue\n",
    "    else:\n",
    "        print(\"你的密碼是:\", password)\n",
    "        break\n",
    "print(\"註冊成功\")"
   ]
  },
  {
   "cell_type": "code",
   "execution_count": null,
   "metadata": {},
   "outputs": [],
   "source": [
    "\n"
   ]
  }
 ],
 "metadata": {
  "language_info": {
   "name": "python"
  }
 },
 "nbformat": 4,
 "nbformat_minor": 2
}
